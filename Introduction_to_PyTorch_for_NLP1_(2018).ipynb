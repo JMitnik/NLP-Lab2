{
 "cells": [
  {
   "cell_type": "markdown",
   "metadata": {
    "colab_type": "text",
    "id": "yvHMf9kxpBlA"
   },
   "source": [
    "Introduction to PyTorch for NLP1\n",
    "==========================\n",
    "\n"
   ]
  },
  {
   "cell_type": "markdown",
   "metadata": {
    "colab_type": "text",
    "id": "OwJB10hhpQFC"
   },
   "source": [
    "This notebook is meant to give a short introduction to PyTorch basics.\n",
    "\n",
    "If, before or during we dive into PyTorch, you would like to read a bit more about neural networks in general, then [have a look here](http://ufldl.stanford.edu/tutorial/supervised/MultiLayerNeuralNetworks/).\n",
    "\n",
    "\n",
    "**You do not have to hand in this tutorial.** It is just to help you get started with PyTorch and neural networks.\n",
    "\n",
    "Before you continue, check if you have the correct runtime:\n",
    "\n",
    "> `Runtime -> Change runtime type`\n",
    "\n",
    "It should be Python 3 with GPU.\n",
    "\n",
    "Before you continue, please make a copy of this notebook to make it editable.\n",
    "\n",
    "### Installing PyTorch\n",
    "\n",
    "Now, let's install PyTorch:"
   ]
  },
  {
   "cell_type": "code",
   "execution_count": 1,
   "metadata": {
    "ExecuteTime": {
     "end_time": "2018-12-04T15:16:47.498482Z",
     "start_time": "2018-12-04T15:16:45.399172Z"
    },
    "colab": {},
    "colab_type": "code",
    "id": "baaS2wdKpcbt"
   },
   "outputs": [
    {
     "name": "stdout",
     "output_type": "stream",
     "text": [
      "\u001b[31mtorch-0.4.1-cp36-cp36m-linux_x86_64.whl is not a supported wheel on this platform.\u001b[0m\r\n"
     ]
    }
   ],
   "source": [
    "# http://pytorch.org/\n",
    "from os.path import exists\n",
    "from wheel.pep425tags import get_abbr_impl, get_impl_ver, get_abi_tag\n",
    "platform = '{}{}-{}'.format(get_abbr_impl(), get_impl_ver(), get_abi_tag())\n",
    "cuda_output = !ldconfig -p|grep cudart.so|sed -e 's/.*\\.\\([0-9]*\\)\\.\\([0-9]*\\)$/cu\\1\\2/'\n",
    "accelerator = cuda_output[0] if exists('/dev/nvidia0') else 'cpu'\n",
    "\n",
    "!pip install -q http://download.pytorch.org/whl/{accelerator}/torch-0.4.1-{platform}-linux_x86_64.whl torchvision\n",
    "import torch"
   ]
  },
  {
   "cell_type": "code",
   "execution_count": 2,
   "metadata": {
    "ExecuteTime": {
     "end_time": "2018-12-04T15:16:48.246797Z",
     "start_time": "2018-12-04T15:16:48.229700Z"
    },
    "colab": {},
    "colab_type": "code",
    "id": "s8czvNTYpauF"
   },
   "outputs": [
    {
     "data": {
      "text/plain": [
       "'0.4.1'"
      ]
     },
     "execution_count": 2,
     "metadata": {},
     "output_type": "execute_result"
    }
   ],
   "source": [
    "# should say 0.4.1\n",
    "torch.__version__"
   ]
  },
  {
   "cell_type": "markdown",
   "metadata": {
    "colab_type": "text",
    "id": "zUXA_dcxpBlF"
   },
   "source": [
    "### Random Seed\n",
    "\n",
    "We can set a seed so that we get the same random values each time we re-run the notebook.\n",
    "We will use seed [42](https://goo.gl/S3wrAV) here. "
   ]
  },
  {
   "cell_type": "code",
   "execution_count": 3,
   "metadata": {
    "ExecuteTime": {
     "end_time": "2018-12-04T15:16:49.620031Z",
     "start_time": "2018-12-04T15:16:49.611289Z"
    },
    "colab": {},
    "colab_type": "code",
    "id": "S32k33BMpBlF"
   },
   "outputs": [
    {
     "data": {
      "text/plain": [
       "<torch._C.Generator at 0x111696c10>"
      ]
     },
     "execution_count": 3,
     "metadata": {},
     "output_type": "execute_result"
    }
   ],
   "source": [
    "torch.manual_seed(42)"
   ]
  },
  {
   "cell_type": "markdown",
   "metadata": {
    "colab_type": "text",
    "id": "rDx0JrAapBlK"
   },
   "source": [
    "### Tensors\n",
    "\n",
    "Tensors are the Torch equivalent of **Numpy arrays**, but crucially, they can also be used on a GPU (graphics card). This can make your calculations a lot faster.\n",
    "\n",
    "Since they are so similar, you can actually **convert** most tensors to Numpy arrays (and back), but we won't need to do that so often.\n",
    "\n",
    "Working with PyTorch, we will need lots of tensors of various shapes.\n",
    "For example, if we want to transform an input vector $\\mathbf{x}$, we will need a weight matrix $W$.\n",
    "\n",
    "**Note:** \"Tensor\" is a general name. A 1-D tensor is also called a **vector**, a 2-D tensor a **matrix**.\n",
    "\n"
   ]
  },
  {
   "cell_type": "code",
   "execution_count": 5,
   "metadata": {
    "ExecuteTime": {
     "end_time": "2018-12-04T15:23:39.138757Z",
     "start_time": "2018-12-04T15:23:39.127075Z"
    },
    "colab": {},
    "colab_type": "code",
    "id": "BGLXG2zxpBlL"
   },
   "outputs": [
    {
     "name": "stdout",
     "output_type": "stream",
     "text": [
      "tensor([[[0.0000e+00, 3.6893e+19, 0.0000e+00],\n",
      "         [3.6893e+19, 7.0065e-45, 0.0000e+00],\n",
      "         [0.0000e+00, 0.0000e+00, 0.0000e+00]],\n",
      "\n",
      "        [[0.0000e+00, 0.0000e+00, 0.0000e+00],\n",
      "         [0.0000e+00, 0.0000e+00, 0.0000e+00],\n",
      "         [0.0000e+00, 0.0000e+00, 0.0000e+00]]])\n"
     ]
    }
   ],
   "source": [
    "# create *uninitialized* 3-D tensor (values can be anything that is in memory!)\n",
    "x = torch.Tensor(2, 3, 3)\n",
    "print(x)"
   ]
  },
  {
   "cell_type": "code",
   "execution_count": 6,
   "metadata": {
    "ExecuteTime": {
     "end_time": "2018-12-04T15:23:43.983406Z",
     "start_time": "2018-12-04T15:23:43.973553Z"
    },
    "colab": {},
    "colab_type": "code",
    "id": "fcPJIJH6pBlP"
   },
   "outputs": [
    {
     "name": "stdout",
     "output_type": "stream",
     "text": [
      "tensor([[0.8823, 0.9150, 0.3829],\n",
      "        [0.9593, 0.3904, 0.6009],\n",
      "        [0.2566, 0.7936, 0.9408],\n",
      "        [0.1332, 0.9346, 0.5936]])\n"
     ]
    }
   ],
   "source": [
    "# a randomly initialized 2-D tensor (a matrix)\n",
    "x = torch.rand(4, 3)\n",
    "print(x)"
   ]
  },
  {
   "cell_type": "code",
   "execution_count": 7,
   "metadata": {
    "ExecuteTime": {
     "end_time": "2018-12-04T15:23:47.524810Z",
     "start_time": "2018-12-04T15:23:47.515515Z"
    },
    "colab": {},
    "colab_type": "code",
    "id": "phKlnBBrpBlS"
   },
   "outputs": [
    {
     "name": "stdout",
     "output_type": "stream",
     "text": [
      "torch.Size([4, 3])\n"
     ]
    }
   ],
   "source": [
    "# how to get its size\n",
    "print(x.size())"
   ]
  },
  {
   "cell_type": "code",
   "execution_count": 8,
   "metadata": {
    "ExecuteTime": {
     "end_time": "2018-12-04T15:23:47.770846Z",
     "start_time": "2018-12-04T15:23:47.749263Z"
    },
    "colab": {},
    "colab_type": "code",
    "id": "qv4D6_K9pBlV"
   },
   "outputs": [
    {
     "name": "stdout",
     "output_type": "stream",
     "text": [
      "4 3\n"
     ]
    }
   ],
   "source": [
    "# or if you know there are 2 dimensions:\n",
    "time, dim = x.size()\n",
    "print(time, dim)"
   ]
  },
  {
   "cell_type": "markdown",
   "metadata": {
    "colab_type": "text",
    "id": "ivHu1ZxupBla"
   },
   "source": [
    "### Operations\n",
    "\n",
    "#### Adding"
   ]
  },
  {
   "cell_type": "code",
   "execution_count": 9,
   "metadata": {
    "ExecuteTime": {
     "end_time": "2018-12-04T15:23:54.413924Z",
     "start_time": "2018-12-04T15:23:54.393742Z"
    },
    "colab": {},
    "colab_type": "code",
    "id": "MTpc1haWpBlc"
   },
   "outputs": [
    {
     "name": "stdout",
     "output_type": "stream",
     "text": [
      "tensor([[1.7517, 1.4827, 1.1240],\n",
      "        [1.3887, 1.2759, 1.1748],\n",
      "        [0.5232, 1.4211, 1.2104],\n",
      "        [0.5745, 1.2315, 1.4253]])\n",
      "tensor([[1.7517, 1.4827, 1.1240],\n",
      "        [1.3887, 1.2759, 1.1748],\n",
      "        [0.5232, 1.4211, 1.2104],\n",
      "        [0.5745, 1.2315, 1.4253]])\n",
      "tensor([[1.7517, 1.4827, 1.1240],\n",
      "        [1.3887, 1.2759, 1.1748],\n",
      "        [0.5232, 1.4211, 1.2104],\n",
      "        [0.5745, 1.2315, 1.4253]])\n",
      "tensor([[1.7517, 1.4827, 1.1240],\n",
      "        [1.3887, 1.2759, 1.1748],\n",
      "        [0.5232, 1.4211, 1.2104],\n",
      "        [0.5745, 1.2315, 1.4253]])\n"
     ]
    }
   ],
   "source": [
    "# You can add tensors in many ways. \n",
    "# The easiest is to simply use a python + operator:\n",
    "y = torch.rand(4, 3)\n",
    "print(x + y)\n",
    "\n",
    "# But you can also use torch.add:\n",
    "print(torch.add(x, y))\n",
    "\n",
    "# Provide an output Tensor and save the result there:\n",
    "result = torch.Tensor(4, 3)\n",
    "torch.add(x, y, out=result)\n",
    "print(result)\n",
    "\n",
    "# Or add in-place (this changes y!)\n",
    "# Note: Any operation that mutates a tensor in-place is post-fixed with an \"_\", like \"add_\" here.\n",
    "y.add_(x)\n",
    "print(y)"
   ]
  },
  {
   "cell_type": "markdown",
   "metadata": {
    "colab_type": "text",
    "id": "uoOWYbIypBlg"
   },
   "source": [
    "#### Matrix multiplication\n",
    "\n",
    "Matrix multiplications are essential for Neural networks. Quite often, we have an input vector $\\mathbf{x}$, and then we want to learn weights $W$ that transform that input to some output that we want. \n",
    "\n",
    "We will now walk you through matrix multiplication in PyTorch."
   ]
  },
  {
   "cell_type": "code",
   "execution_count": 10,
   "metadata": {
    "ExecuteTime": {
     "end_time": "2018-12-04T15:24:00.588771Z",
     "start_time": "2018-12-04T15:24:00.572518Z"
    },
    "colab": {},
    "colab_type": "code",
    "id": "-ZpRuE8cpBlh"
   },
   "outputs": [
    {
     "name": "stdout",
     "output_type": "stream",
     "text": [
      "tensor([0, 1, 2, 3, 4, 5])\n",
      "torch.Size([6])\n"
     ]
    }
   ],
   "source": [
    "# Let's create a vector x with values 0..5\n",
    "# We can use the arange function for that:\n",
    "x = torch.arange(0, 6)\n",
    "print(x)\n",
    "print(x.shape)"
   ]
  },
  {
   "cell_type": "code",
   "execution_count": 18,
   "metadata": {
    "ExecuteTime": {
     "end_time": "2018-12-04T15:25:07.823015Z",
     "start_time": "2018-12-04T15:25:07.813109Z"
    }
   },
   "outputs": [
    {
     "data": {
      "text/plain": [
       "tensor([0, 1, 2, 3, 4, 5])"
      ]
     },
     "execution_count": 18,
     "metadata": {},
     "output_type": "execute_result"
    }
   ],
   "source": [
    "x.view(-1)"
   ]
  },
  {
   "cell_type": "code",
   "execution_count": 23,
   "metadata": {
    "ExecuteTime": {
     "end_time": "2018-12-04T15:26:20.833708Z",
     "start_time": "2018-12-04T15:26:20.821626Z"
    },
    "colab": {},
    "colab_type": "code",
    "id": "xw-AzLnqpBlk"
   },
   "outputs": [
    {
     "name": "stdout",
     "output_type": "stream",
     "text": [
      "tensor([[0, 1, 2],\n",
      "        [3, 4, 5]])\n",
      "torch.Size([2, 3])\n"
     ]
    }
   ],
   "source": [
    "# Now, we will reshape x to have shape 2x3\n",
    "# That is, it will become a matrix!\n",
    "# The values will be the same, we will just look at them differently.\n",
    "x = x.view((2, 3))\n",
    "print(x)\n",
    "print(x.shape)"
   ]
  },
  {
   "cell_type": "code",
   "execution_count": 25,
   "metadata": {
    "ExecuteTime": {
     "end_time": "2018-12-04T15:26:37.368774Z",
     "start_time": "2018-12-04T15:26:37.358693Z"
    },
    "colab": {},
    "colab_type": "code",
    "id": "jMTx-MmFpBlo"
   },
   "outputs": [
    {
     "name": "stdout",
     "output_type": "stream",
     "text": [
      "tensor([[0, 1, 2],\n",
      "        [3, 4, 5],\n",
      "        [6, 7, 8]])\n"
     ]
    }
   ],
   "source": [
    "# Now, let's create a square matrix W:\n",
    "W = torch.arange(0, 9).view((3, 3))\n",
    "print(W)"
   ]
  },
  {
   "cell_type": "code",
   "execution_count": 26,
   "metadata": {
    "ExecuteTime": {
     "end_time": "2018-12-04T15:26:38.430374Z",
     "start_time": "2018-12-04T15:26:38.417597Z"
    },
    "colab": {},
    "colab_type": "code",
    "id": "B8hsX8x4pBlr",
    "scrolled": true
   },
   "outputs": [
    {
     "name": "stdout",
     "output_type": "stream",
     "text": [
      "tensor([[15, 18, 21],\n",
      "        [42, 54, 66]])\n"
     ]
    }
   ],
   "source": [
    "# Now we can perform matrix multiplication, since we have 2x3 and 3x3 matrices!\n",
    "# Verify if you can do this multiplication by hand, too!\n",
    "# If you need some help, you can check here: https://www.mathsisfun.com/algebra/matrix-multiplying.html\n",
    "h = torch.matmul(x, W)\n",
    "print(h)"
   ]
  },
  {
   "cell_type": "markdown",
   "metadata": {
    "colab_type": "text",
    "id": "gdJfT0F6pBlt"
   },
   "source": [
    "#### More operations\n",
    "In case you want to do something different from addition or matrix-multiplying (and that is quite likely!), you can read here about all of Torch's operations: https://pytorch.org/docs/stable/index.html\n"
   ]
  },
  {
   "cell_type": "markdown",
   "metadata": {
    "colab_type": "text",
    "id": "F9LMraJcpBlu"
   },
   "source": [
    "### Indexing\n",
    "It is quite common that we need to select a part of a tensor. Indexing works just like in Numpy!"
   ]
  },
  {
   "cell_type": "code",
   "execution_count": 27,
   "metadata": {
    "ExecuteTime": {
     "end_time": "2018-12-04T15:26:59.923171Z",
     "start_time": "2018-12-04T15:26:59.904447Z"
    },
    "colab": {},
    "colab_type": "code",
    "id": "yMpHi0VopBlu"
   },
   "outputs": [
    {
     "name": "stdout",
     "output_type": "stream",
     "text": [
      "tensor([1.4827, 1.2759, 1.4211, 1.2315])\n",
      "tensor([1.7517, 1.4827, 1.1240])\n",
      "tensor([1.1240, 1.1748])\n",
      "tensor([[1.3887, 1.2759, 1.1748],\n",
      "        [0.5232, 1.4211, 1.2104]])\n"
     ]
    }
   ],
   "source": [
    "print(result[:, 1])    # second column\n",
    "print(result[0])       # first row\n",
    "print(result[:2, -1])  # first two rows, last column\n",
    "print(result[1:3, :])  # middle two rows"
   ]
  },
  {
   "cell_type": "markdown",
   "metadata": {
    "colab_type": "text",
    "id": "MeWjjBvGpBlx"
   },
   "source": [
    "## Automatic differentiation with Autograd\n",
    "\n",
    "One of the main reasons for using PyTorch is that we can automatically get **gradients/derivatives** of functions that we define. We will mainly use PyTorch for using Neural networks, and they are just fancy functions! If we use weight matrices in our function that we want to learn, then those are called the **parameters** or simply the **weights**.\n",
    "\n",
    "If our Neural Network would output a single scalar value, we would talk about taking the **derivative**, but you will see that quite often we will have **multiple** output variables (\"values\"); in that case we talk about **gradients**. It's a more general term.\n",
    "\n",
    "Given an input $\\mathbf{x}$, we define our function by **manipulating** that input, usually by matrix-multiplications with weight matrices and additions with so-called bias vectors. As we manipulate our input, we are automatically creating a **computational graph**. This graph shows how to arrive at our output from our input. \n",
    "PyTorch is a **define-by-run** framework; this means that we can just do our manipulations, and PyTorch will keep track of that graph for us!\n",
    "\n",
    "So, to recap: the only thing we have to do is to compute the **output**, and then we can ask PyTorch to automatically get the **gradients**. \n",
    "\n",
    "> **Note:  Why do we want gradients?** Consider that we have defined a function, a Neural Net, that is supposed to compute a certain output $y$ for an input vector $\\mathbf{x}$. We then define an **error measure** that tells us how wrong our network is; how bad it is in predicting output $y$ from input $\\mathbf{x}$. Based on this error measure, we can use the gradients to **update** the weights $W$ that were responsible for the output, so that the next time we present input $\\mathbf{x}$ to our network, the output will be closer to what we want. "
   ]
  },
  {
   "cell_type": "markdown",
   "metadata": {
    "colab_type": "text",
    "id": "O-a89JqW9le7"
   },
   "source": [
    "\n",
    "### Enabling automatic gradients\n",
    "\n",
    "In order to get the autograd functionality, a tensor needs to set `requires_grad` to `True`. This is set to False by default.\n"
   ]
  },
  {
   "cell_type": "code",
   "execution_count": 28,
   "metadata": {
    "ExecuteTime": {
     "end_time": "2018-12-04T15:32:24.279148Z",
     "start_time": "2018-12-04T15:32:24.257995Z"
    },
    "colab": {},
    "colab_type": "code",
    "id": "pFZnrImI9oOi"
   },
   "outputs": [
    {
     "data": {
      "text/plain": [
       "False"
      ]
     },
     "execution_count": 28,
     "metadata": {},
     "output_type": "execute_result"
    }
   ],
   "source": [
    "t = torch.ones(3)\n",
    "t.requires_grad"
   ]
  },
  {
   "cell_type": "code",
   "execution_count": 29,
   "metadata": {
    "ExecuteTime": {
     "end_time": "2018-12-04T15:32:25.920948Z",
     "start_time": "2018-12-04T15:32:25.908171Z"
    },
    "colab": {},
    "colab_type": "code",
    "id": "l3c4aiVO-cbN"
   },
   "outputs": [
    {
     "data": {
      "text/plain": [
       "tensor([1., 1., 1.], requires_grad=True)"
      ]
     },
     "execution_count": 29,
     "metadata": {},
     "output_type": "execute_result"
    }
   ],
   "source": [
    "t = torch.ones(3, requires_grad=True)\n",
    "t"
   ]
  },
  {
   "cell_type": "markdown",
   "metadata": {
    "colab_type": "text",
    "id": "yopHsYC89iwM"
   },
   "source": [
    "\n",
    "### Example\n",
    "\n",
    "We're going to define a function $$y_i = (x_i + 2)^2 + 3$$\n",
    "And as our final output $o$ we take the mean over all values $y_i$, so we get a single output value:\n",
    "\n",
    "$$o = \\frac{1}{|y|} \\sum_i y_i$$\n",
    "\n",
    "As our input $\\mathbf{x}$ we'll use a vector with 3 values: $[1, 1, 1]$."
   ]
  },
  {
   "cell_type": "code",
   "execution_count": 40,
   "metadata": {
    "ExecuteTime": {
     "end_time": "2018-12-04T15:44:29.926615Z",
     "start_time": "2018-12-04T15:44:29.916520Z"
    },
    "colab": {},
    "colab_type": "code",
    "id": "XREE1B3VpBlx"
   },
   "outputs": [
    {
     "name": "stdout",
     "output_type": "stream",
     "text": [
      "tensor([1., 1., 1.], requires_grad=True)\n"
     ]
    }
   ],
   "source": [
    "# create an input vector x\n",
    "x = torch.ones(3, requires_grad=True)\n",
    "print(x)"
   ]
  },
  {
   "cell_type": "code",
   "execution_count": 41,
   "metadata": {
    "ExecuteTime": {
     "end_time": "2018-12-04T15:44:30.619287Z",
     "start_time": "2018-12-04T15:44:30.609705Z"
    },
    "colab": {},
    "colab_type": "code",
    "id": "cgtmRfXcpBl0"
   },
   "outputs": [
    {
     "name": "stdout",
     "output_type": "stream",
     "text": [
      "tensor([12., 12., 12.], grad_fn=<AddBackward>)\n"
     ]
    }
   ],
   "source": [
    "# Now we define our function\n",
    "# Note that, even though x is a vector, we can still add a single value to it.\n",
    "# PyTorch will just add that value to each element of the vector.\n",
    "y = (x + 2)**2 + 3\n",
    "print(y)"
   ]
  },
  {
   "cell_type": "code",
   "execution_count": 42,
   "metadata": {
    "ExecuteTime": {
     "end_time": "2018-12-04T15:44:31.564857Z",
     "start_time": "2018-12-04T15:44:31.555659Z"
    },
    "colab": {},
    "colab_type": "code",
    "id": "UofeoWLjpBl2"
   },
   "outputs": [
    {
     "name": "stdout",
     "output_type": "stream",
     "text": [
      "<AddBackward object at 0x114f55d68>\n"
     ]
    }
   ],
   "source": [
    "# y has a grad_fn since it was created by an operation\n",
    "# this grad_fn will be used by PyTorch for obtaining the gradient\n",
    "print(y.grad_fn)"
   ]
  },
  {
   "cell_type": "code",
   "execution_count": 43,
   "metadata": {
    "ExecuteTime": {
     "end_time": "2018-12-04T15:44:33.150204Z",
     "start_time": "2018-12-04T15:44:33.137456Z"
    },
    "colab": {},
    "colab_type": "code",
    "id": "0fW9-MnkpBl5"
   },
   "outputs": [
    {
     "name": "stdout",
     "output_type": "stream",
     "text": [
      "tensor(12., grad_fn=<MeanBackward1>)\n"
     ]
    }
   ],
   "source": [
    "# Our final output o is the mean\n",
    "o = y.mean()\n",
    "print(o)"
   ]
  },
  {
   "cell_type": "code",
   "execution_count": 44,
   "metadata": {
    "ExecuteTime": {
     "end_time": "2018-12-04T15:44:34.996083Z",
     "start_time": "2018-12-04T15:44:34.990800Z"
    },
    "colab": {},
    "colab_type": "code",
    "collapsed": true,
    "id": "UvtX8gp6pBl7"
   },
   "outputs": [],
   "source": [
    "# now we can take the gradients by calling o.backward()\n",
    "# this will populate x.grad\n",
    "o.backward()"
   ]
  },
  {
   "cell_type": "markdown",
   "metadata": {
    "colab_type": "text",
    "id": "l2WIyY-zpBl9"
   },
   "source": [
    "`x.grad` will now contain the gradient $\\partial o/ \\partial x$, and this will say how a change in $x$ will affect output $o$:"
   ]
  },
  {
   "cell_type": "code",
   "execution_count": 45,
   "metadata": {
    "ExecuteTime": {
     "end_time": "2018-12-04T15:44:37.169371Z",
     "start_time": "2018-12-04T15:44:37.160930Z"
    },
    "colab": {},
    "colab_type": "code",
    "id": "xp0FHgdrpBl9"
   },
   "outputs": [
    {
     "name": "stdout",
     "output_type": "stream",
     "text": [
      "tensor([2., 2., 2.])\n"
     ]
    }
   ],
   "source": [
    "print(x.grad)"
   ]
  },
  {
   "cell_type": "markdown",
   "metadata": {
    "colab_type": "text",
    "id": "QNorbxodpBl_"
   },
   "source": [
    "#### Verifying the gradient by hand\n",
    "\n",
    "You should now see a gradient of `[2, 2, 2]`.\n",
    "\n",
    "We can verify this by hand!\n",
    "\n",
    "Our output $\\mathbf{o}$ is the mean of $\\mathbf{y}$:\n",
    "$$o = \\frac{1}{3}\\sum_i y_i$$\n",
    "\n",
    "And $\\mathbf{y}$ consists of elements $y_i$:\n",
    "\n",
    "$$y_i = (x_i+2)^2 + 3$$ \n",
    "\n",
    "We know that $y_i = 12$, given that $x_i = 1$ (for each $i$):\n",
    "$$y_i\\bigr\\rvert_{x_i=1} = 12$$\n",
    "\n",
    "Therefore,\n",
    "$$\\frac{\\partial o}{\\partial x_i} = \\frac{\\partial o}{\\partial y_i}\\frac{\\partial y_i}{\\partial x_i} = \\underbrace{\\frac{1}{3}}_{\\frac{\\partial o}{\\partial y_i}} \\underbrace{2 (x_i+2)}_{\\frac{\\partial y_i}{\\partial x_i}} = \\frac{2}{3} (x_i+2)$$\n",
    "\n",
    "hence\n",
    "$$\\frac{\\partial o}{\\partial x_i}\\bigr\\rvert_{x_i=1} = \\frac{2}{3} * 3 = 2$$"
   ]
  },
  {
   "cell_type": "markdown",
   "metadata": {
    "colab_type": "text",
    "id": "-UvOaiyTpBmB"
   },
   "source": [
    "## NN module\n",
    "\n",
    "Now if we want to build a big Neural Net, we could specify all our parameters (weight matrices, bias vectors) using `Tensors` (with `requires_grad=True`), ask PyTorch to calculate the gradients and then adjust the parameters. But things can quickly get cumbersome if we have a lot of parameters. In PyTorch, there is a package called `torch.nn` that makes building Neural Nets more convenient. \n",
    "\n",
    "Let's define a very simple Neural Net to show you how it works. The network performs a **logistic regression**, i.e. it calculates:\n",
    "$$ y = \\sigma( W \\mathbf{x} + b )$$\n",
    "\n",
    "You have already seen how to calculate $W \\mathbf{x} + b$; it's a matrix multiplication with an added bias. The function $\\sigma$ might be new: it is the sigmoid function, and it is defined as:\n",
    "$$ \\sigma(x) = \\frac{1}{1+ \\exp(-x)} $$\n",
    "\n",
    "The $\\exp$ makes sure all values are positive, while the rest scales them between 0 and 1. \n",
    "You can see the function below:"
   ]
  },
  {
   "cell_type": "code",
   "execution_count": 47,
   "metadata": {
    "ExecuteTime": {
     "end_time": "2018-12-04T15:49:54.976210Z",
     "start_time": "2018-12-04T15:49:54.687481Z"
    },
    "colab": {},
    "colab_type": "code",
    "id": "PjUzy4xspBmB"
   },
   "outputs": [
    {
     "data": {
      "image/png": "[encoded data removed]",
      "text/plain": [
       "<matplotlib.figure.Figure at 0x114f50358>"
      ]
     },
     "metadata": {},
     "output_type": "display_data"
    }
   ],
   "source": [
    "import numpy as np\n",
    "import matplotlib.pyplot as plt\n",
    "sigmoid = lambda x: 1 / (1 + np.exp(-x))\n",
    "x = np.arange(-10., 10., 0.2)\n",
    "plt.plot(x, sigmoid(x), 'b', label='sigmoid')\n",
    "plt.show()"
   ]
  },
  {
   "cell_type": "markdown",
   "metadata": {
    "colab_type": "text",
    "id": "8CTVNKmgBeCY"
   },
   "source": [
    "> **Tip:** if you want to apply a sigmoid fuction to a Tensor `x` in Pytorch, you can simply call `x.sigmoid()`."
   ]
  },
  {
   "cell_type": "markdown",
   "metadata": {
    "colab_type": "text",
    "id": "FuzxBax0pBmF"
   },
   "source": [
    "In NLP, we are often doing **classification**, rather than regression (predicting a value). So, even though the name can be misleading, logistic regression is a **classifier**: we have two output classes 0 and 1.\n",
    "\n",
    "To get the 2 classes, we use the sigmoid function $\\sigma$, so that the values coming out of our NN are between 0 and 1. You can see that in the picture above.\n",
    "\n"
   ]
  },
  {
   "cell_type": "code",
   "execution_count": 49,
   "metadata": {
    "ExecuteTime": {
     "end_time": "2018-12-04T15:59:43.185297Z",
     "start_time": "2018-12-04T15:59:43.172399Z"
    },
    "colab": {},
    "colab_type": "code",
    "collapsed": true,
    "id": "j808UwLZpBmF"
   },
   "outputs": [],
   "source": [
    "import torch.nn as nn\n",
    "import torch.nn.functional as F\n",
    "\n",
    "class ExampleNN(nn.Module):\n",
    "    \n",
    "    def __init__(self):\n",
    "        super(ExampleNN, self).__init__()\n",
    "        \n",
    "        # an affine operation: y = xW + b\n",
    "        self.output_layer = nn.Linear(3, 1, bias=True)\n",
    "        \n",
    "    def forward(self, x):\n",
    "        x = self.output_layer(x)\n",
    "        return x.sigmoid()"
   ]
  },
  {
   "cell_type": "code",
   "execution_count": 50,
   "metadata": {
    "ExecuteTime": {
     "end_time": "2018-12-04T15:59:43.914898Z",
     "start_time": "2018-12-04T15:59:43.901106Z"
    },
    "colab": {},
    "colab_type": "code",
    "id": "nbr-Z02dKb9B"
   },
   "outputs": [
    {
     "name": "stdout",
     "output_type": "stream",
     "text": [
      "ExampleNN(\n",
      "  (output_layer): Linear(in_features=3, out_features=1, bias=True)\n",
      ")\n"
     ]
    }
   ],
   "source": [
    "# create a model instance\n",
    "torch.manual_seed(42)\n",
    "model = ExampleNN()\n",
    "print(model)"
   ]
  },
  {
   "cell_type": "markdown",
   "metadata": {
    "colab_type": "text",
    "id": "9T8y0_8epBmJ"
   },
   "source": [
    "Now, this is a very simple Neural Network! Actually, it is so simple maybe we should not call it a Neural network. But let's do so anyway.\n",
    "\n",
    "This is what you should know: \n",
    "\n",
    "- when defining your Neural Net, you create a class that *inherits* from `nn.Module`. \n",
    "- We called our Neural Net `ExampleNN`.\n",
    "- Parameters are defined within the `__init__` method. Here we defined a single **linear** layer. The parameters for that layer (a weight matrix $W$ and a bias term $b$) are added **automatically** to our parameter list.\n",
    "- We define our computation in the `forward` function. In this case, we apply the linear layer to our input $\\mathbf{x}$ and then a sigmoid function.\n",
    "\n",
    "Let's check if our parameters are indeed as we expect them to be:"
   ]
  },
  {
   "cell_type": "code",
   "execution_count": 51,
   "metadata": {
    "ExecuteTime": {
     "end_time": "2018-12-04T15:59:46.077998Z",
     "start_time": "2018-12-04T15:59:46.065121Z"
    },
    "colab": {},
    "colab_type": "code",
    "id": "Zkh47ogzpBmK"
   },
   "outputs": [
    {
     "name": "stdout",
     "output_type": "stream",
     "text": [
      "output_layer.weight Parameter containing:\n",
      "tensor([[ 0.4414,  0.4792, -0.1353]], requires_grad=True)\n",
      "output_layer.bias Parameter containing:\n",
      "tensor([0.5304], requires_grad=True)\n"
     ]
    }
   ],
   "source": [
    "params = list(model.named_parameters())\n",
    "\n",
    "for name, p in params:\n",
    "    print(name, p)\n"
   ]
  },
  {
   "cell_type": "markdown",
   "metadata": {
    "colab_type": "text",
    "id": "X0rSy2VppBmO"
   },
   "source": [
    "You can see that:\n",
    "\n",
    "- the first parameter is our weight matrix $W$, which is shaped $[1, 3]$.\n",
    "- the second parameter is the bias term $b$, which is a scalar (a single value), since the weight matrix transforms our input $\\mathbf{x}$ (with 3 elements) into a single scalar.\n",
    "\n",
    "Observe that these parameters have been randomly initialized.\n",
    "\n",
    "Now that we have our NN, we can feed it an input and see what comes out.\n",
    "The input has to be a `Variable`. "
   ]
  },
  {
   "cell_type": "code",
   "execution_count": 52,
   "metadata": {
    "ExecuteTime": {
     "end_time": "2018-12-04T16:01:49.553039Z",
     "start_time": "2018-12-04T16:01:49.535523Z"
    },
    "colab": {},
    "colab_type": "code",
    "id": "Z4U3Y8LWpBmP"
   },
   "outputs": [
    {
     "name": "stdout",
     "output_type": "stream",
     "text": [
      "input: tensor([ 0.2345,  0.2303, -1.1229], requires_grad=True)\n",
      "output: tensor([0.7101], grad_fn=<SigmoidBackward>)\n"
     ]
    }
   ],
   "source": [
    "x = torch.randn(3, requires_grad=True)\n",
    "print(\"input:\", x)\n",
    "out = model(x)\n",
    "print(\"output:\", out)"
   ]
  },
  {
   "cell_type": "markdown",
   "metadata": {
    "colab_type": "text",
    "id": "Wi8AcrvxpBmT"
   },
   "source": [
    "#### Loss \n",
    "Now we would like to use the `autograd` functionality to get gradients, but we first need a loss!\n",
    "The loss will tell us how well our network is doing.\n",
    "\n",
    "We're going to say that, for our input example, the **target** value is `0`. \n",
    "The target is what we wanted our network to **predict** for the input that we gave.\n",
    "\n",
    "As our **loss** (or \"criterion\") we'll use the following two options:\n",
    "\n",
    "##### Mean Squared Error\n",
    "\n",
    "Mean Squared Error (MSE) is given by:\n",
    "\n",
    "$$ \\text{MSE} = \\frac{1}{N} \\sum_{i=1}^N (o_i - t_i)^2 $$\n",
    "\n",
    "I.e. it is the average, over elements $i$, of the squared difference of output $o_i$ with target $t_i$.\n",
    "Since we have a single output value here, our loss is simply $(o - t)^2$.\n",
    "\n",
    "##### Cross Entropy Loss\n",
    "\n",
    "As there are only two output classes, we can use Binary Cross Entropy (BCE) Loss, which is given by:\n",
    "\n",
    "$$ \\text{BCE} = \\frac{1}{N} \\sum_{i=1}^N −(t_i \\log(o_i)+(1−t_i)\\log(1−o_i)) $$\n",
    "\n",
    "BCE averages a different measure of the divergence between outputs and targets. For an individual sample $i$, it takes the following value:\n",
    "\n",
    "$$\n",
    "\\displaystyle −(t_i \\log(o_i)+(1−t_i)\\log(1−o_i))  = \\begin{cases} \n",
    " −\\log(1 - o_i) & \\text{if $t_i = 0$}\\\\\n",
    " −\\log(o_i) & \\text{if $t_i = 1$} \\\\\n",
    " \\end{cases}\n",
    " $$\n",
    " \n",
    "Plotting these functions shows that Cross Entropy assigns a relatively high penalty to predictions that are very far from the target, while being more lenient to predictions that approach it:"
   ]
  },
  {
   "cell_type": "code",
   "execution_count": 55,
   "metadata": {
    "ExecuteTime": {
     "end_time": "2018-12-04T16:05:57.539493Z",
     "start_time": "2018-12-04T16:05:57.359208Z"
    },
    "colab": {},
    "colab_type": "code",
    "id": "sTsFglMI583G"
   },
   "outputs": [
    {
     "data": {
      "image/png": "[encoded data removed]",
      "text/plain": [
       "<matplotlib.figure.Figure at 0x115ffeda0>"
      ]
     },
     "metadata": {},
     "output_type": "display_data"
    }
   ],
   "source": [
    "import numpy as np\n",
    "import matplotlib.pyplot as plt\n",
    "bce_0 = lambda x: - np.log(1 - x)\n",
    "bce_1 = lambda x: - np.log(x)\n",
    "x_array = np.arange(0.01, 1.0, 0.01)\n",
    "plt.plot(x_array, bce_0(x_array), 'b', label='t_i=0')\n",
    "plt.plot(x_array, bce_1(x_array), 'r', label='t_i=1')\n",
    "plt.legend()\n",
    "plt.show()"
   ]
  },
  {
   "cell_type": "markdown",
   "metadata": {
    "colab_type": "text",
    "id": "tPE8IV5h7DUV"
   },
   "source": [
    "PyTorch offers Mean Squared Error and Cross Entropy (in addition to many other options) as built-in loss functions. \n",
    "\n",
    "**Let's calculate our loss:**"
   ]
  },
  {
   "cell_type": "code",
   "execution_count": 56,
   "metadata": {
    "ExecuteTime": {
     "end_time": "2018-12-04T16:07:25.879347Z",
     "start_time": "2018-12-04T16:07:25.859651Z"
    },
    "colab": {},
    "colab_type": "code",
    "id": "HiSdEUbFpBmU"
   },
   "outputs": [
    {
     "name": "stdout",
     "output_type": "stream",
     "text": [
      "output: tensor([0.7101], grad_fn=<SigmoidBackward>)\n",
      "MSE loss: tensor(0.5043, grad_fn=<MseLossBackward>)\n",
      "BCE loss: tensor(1.2384, grad_fn=<BinaryCrossEntropyBackward>)\n"
     ]
    }
   ],
   "source": [
    "out = model(x)                # forward pass\n",
    "target = torch.zeros(1)       # a dummy target (0.)\n",
    "\n",
    "criterion_mse = nn.MSELoss()  # this is our MSE criterion\n",
    "criterion_bce = nn.BCELoss()  # this is our Binary Cross Entropy criterion\n",
    "\n",
    "loss_mse = criterion_mse(out, target)\n",
    "loss_bce = criterion_bce(out, target)\n",
    "\n",
    "print(\"output:\", out)\n",
    "print(\"MSE loss:\", loss_mse)\n",
    "print(\"BCE loss:\", loss_bce)"
   ]
  },
  {
   "cell_type": "markdown",
   "metadata": {
    "colab_type": "text",
    "id": "h1yrp29npBma"
   },
   "source": [
    "### Gradient Descent \n",
    "Now we'll ask PyTorch to **update** the weights (parameters) of our neural network so that our next prediction is closer to that target.\n",
    "\n",
    "We first need to zero-out all gradient tensors. `net.zero_grad()` will do this for all parameters. It will set `p.grad` to zeros for each parameter $p$.\n",
    "\n",
    "We use MSE loss here, but you can try with BCE (or any other loss function) yourself. "
   ]
  },
  {
   "cell_type": "code",
   "execution_count": 0,
   "metadata": {
    "colab": {},
    "colab_type": "code",
    "collapsed": true,
    "id": "CobZdcAppBma"
   },
   "outputs": [],
   "source": [
    "model.zero_grad()    # reset gradients\n",
    "loss_mse.backward()  # compute gradients\n",
    "\n",
    "# update weights\n",
    "learning_rate = 0.5\n",
    "\n",
    "# for each parameter, take a small step in the opposite dir of the gradient\n",
    "for p in model.parameters():\n",
    "    p.data = p.data - p.grad.data * learning_rate"
   ]
  },
  {
   "cell_type": "markdown",
   "metadata": {
    "colab_type": "text",
    "id": "zBoym17GpBmc"
   },
   "source": [
    "Now, if we check the output for the same input vector $\\mathbf{x}$, the output should be closer to the target:"
   ]
  },
  {
   "cell_type": "code",
   "execution_count": 58,
   "metadata": {
    "ExecuteTime": {
     "end_time": "2018-12-04T16:15:40.969890Z",
     "start_time": "2018-12-04T16:15:40.944746Z"
    },
    "colab": {},
    "colab_type": "code",
    "id": "pGOK3OgBpBmc"
   },
   "outputs": [
    {
     "name": "stdout",
     "output_type": "stream",
     "text": [
      "target: tensor([0.])\n",
      "out: tensor([0.7101], grad_fn=<SigmoidBackward>)\n",
      "new out (should be closer to target): tensor([0.7101], grad_fn=<SigmoidBackward>)\n",
      "\n",
      "loss: tensor(0.5043, grad_fn=<MseLossBackward>)\n",
      "new loss (should be lower): tensor(0.5043, grad_fn=<MseLossBackward>)\n"
     ]
    }
   ],
   "source": [
    "new_out = model(x)\n",
    "new_loss_mse = criterion_mse(new_out, target)\n",
    "\n",
    "print(\"target:\", target)\n",
    "print(\"out:\", out)\n",
    "print(\"new out (should be closer to target):\", new_out)\n",
    "\n",
    "print(\"\\nloss:\", loss_mse)\n",
    "print(\"new loss (should be lower):\", new_loss_mse)"
   ]
  },
  {
   "cell_type": "markdown",
   "metadata": {
    "colab_type": "text",
    "id": "RD63c9YVzNJk"
   },
   "source": [
    "#### Using torch.optim\n",
    "\n",
    "We just did a step of gradient descent manually, but in practice we would use an optimizer provided by PyTorch, from [torch.optim](https://pytorch.org/docs/stable/optim.html). The simplest one does exactly the same as what we just did.\n",
    "\n",
    "Let's do the same update again, but now using the built-in SGD from PyTorch:\n"
   ]
  },
  {
   "cell_type": "code",
   "execution_count": 0,
   "metadata": {
    "colab": {},
    "colab_type": "code",
    "collapsed": true,
    "id": "ATz7jXYY0BdY"
   },
   "outputs": [],
   "source": [
    "from torch import optim\n",
    "\n",
    "# create a new model with the same parameters as before\n",
    "# (because we use the same random seed)\n",
    "torch.manual_seed(42)\n",
    "model = ExampleNN()\n",
    "print(model)\n",
    "\n",
    "# define the optimizer\n",
    "optimizer = optim.SGD(model.parameters(), lr=0.5)\n",
    "\n",
    "# forward pass\n",
    "new_out = model(x)\n",
    "\n",
    "# loss\n",
    "new_loss_mse = criterion_mse(new_out, target)\n",
    "\n",
    "# backward pass\n",
    "model.zero_grad()    # reset gradients\n",
    "new_loss_mse.backward()  # compute gradients\n",
    "\n",
    "# adjust weights using the optimizer\n",
    "optimizer.step()\n",
    "\n",
    "# compute new output after updating\n",
    "new_out = model(x)\n",
    "new_loss_mse = criterion_mse(new_out, target)\n",
    "\n",
    "print(\"target:\", target)\n",
    "print(\"out:\", out)\n",
    "print(\"new out (should be closer to target):\", new_out)\n",
    "\n",
    "print(\"\\nloss:\", loss_mse)\n",
    "print(\"new loss (should be lower):\", new_loss_mse)"
   ]
  },
  {
   "cell_type": "markdown",
   "metadata": {
    "colab_type": "text",
    "id": "NQtWT7AKJLJU"
   },
   "source": [
    "**Observe** that using optim.SGD for 1 step had exactly the same effect as our manual update."
   ]
  },
  {
   "cell_type": "markdown",
   "metadata": {
    "colab_type": "text",
    "id": "rbqvEq-v2G_-"
   },
   "source": [
    "## Final notes\n",
    "\n",
    "**Final note on optimizers**\n",
    "\n",
    "The advantage of using an optimizer from `torch.optim` is that we can drop-in replace it with another, better optimizer that converges faster. We will do so in the practical. Just know that, in essence, everything it does comes down to taking a step in the opposite direction of the gradient, just like you just did manually!\n",
    "\n",
    "**Final note on loss functions**\n",
    "\n",
    "In this tutorial we played with 2 losses: MSE and Binary Cross Entropy. \n",
    "In the practical, our set of outputs will be 5 sentiment classes. We could map these to a value between 0 and 1 and use MSE, or (and this is what we will do), use a Cross Entropy Loss, with 5 classes. We will cover this loss in the lectures."
   ]
  },
  {
   "cell_type": "markdown",
   "metadata": {
    "colab_type": "text",
    "id": "sUrrPt_kuTAe"
   },
   "source": [
    "## This is it! You are now ready for Practical II."
   ]
  }
 ],
 "metadata": {
  "accelerator": "GPU",
  "colab": {
   "collapsed_sections": [],
   "name": "Introduction to PyTorch for NLP1 (2018)",
   "provenance": [],
   "toc_visible": true,
   "version": "0.3.2"
  },
  "kernelspec": {
   "display_name": "Python 3",
   "language": "python",
   "name": "python3"
  },
  "language_info": {
   "codemirror_mode": {
    "name": "ipython",
    "version": 3
   },
   "file_extension": ".py",
   "mimetype": "text/x-python",
   "name": "python",
   "nbconvert_exporter": "python",
   "pygments_lexer": "ipython3",
   "version": "3.6.3"
  },
  "toc": {
   "base_numbering": 1,
   "nav_menu": {},
   "number_sections": true,
   "sideBar": true,
   "skip_h1_title": false,
   "title_cell": "Table of Contents",
   "title_sidebar": "Contents",
   "toc_cell": false,
   "toc_position": {},
   "toc_section_display": true,
   "toc_window_display": false
  },
  "varInspector": {
   "cols": {
    "lenName": 16,
    "lenType": 16,
    "lenVar": 40
   },
   "kernels_config": {
    "python": {
     "delete_cmd_postfix": "",
     "delete_cmd_prefix": "del ",
     "library": "var_list.py",
     "varRefreshCmd": "print(var_dic_list())"
    },
    "r": {
     "delete_cmd_postfix": ") ",
     "delete_cmd_prefix": "rm(",
     "library": "var_list.r",
     "varRefreshCmd": "cat(var_dic_list()) "
    }
   },
   "types_to_exclude": [
    "module",
    "function",
    "builtin_function_or_method",
    "instance",
    "_Feature"
   ],
   "window_display": false
  }
 },
 "nbformat": 4,
 "nbformat_minor": 1
}
