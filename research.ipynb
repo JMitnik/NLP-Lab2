{
  "nbformat": 4,
  "nbformat_minor": 1,
  "metadata": {
    "language_info": {
      "version": "3.6.1",
      "file_extension": ".py",
      "pygments_lexer": "ipython3",
      "mimetype": "text/x-python",
      "name": "python",
      "nbconvert_exporter": "python",
      "codemirror_mode": {
        "version": 3,
        "name": "ipython"
      }
    },
    "anaconda-cloud": {},
    "kernelspec": {
      "language": "python",
      "name": "python3",
      "display_name": "Python 3"
    }
  },
  "cells": [
    {
      "outputs": [],
      "source": [
        "import re\n",
        "import random\n",
        "import time\n",
        "import math\n",
        "import numpy as np\n",
        "import nltk\n",
        "import matplotlib.pyplot as plt\n",
        "import sys, os\n",
        "plt.style.use('default')"
      ],
      "execution_count": null,
      "cell_type": "code",
      "metadata": {}
    },
    {
      "outputs": [],
      "source": [
        "!wget http://nlp.stanford.edu/sentiment/trainDevTestTrees_PTB.zip\n",
        "!unzip trainDevTestTrees_PTB.zip"
      ],
      "execution_count": null,
      "cell_type": "code",
      "metadata": {}
    },
    {
      "outputs": [],
      "source": [
        "from os.path import exists\n",
        "from wheel.pep425tags import get_abbr_impl, get_impl_ver, get_abi_tag\n",
        "platform = '{}{}-{}'.format(get_abbr_impl(), get_impl_ver(), get_abi_tag())\n",
        "cuda_output = !ldconfig -p|grep cudart.so|sed -e 's/.*\\.\\([0-9]*\\)\\.\\([0-9]*\\)$/cu\\1\\2/'\n",
        "accelerator = cuda_output[0] if exists('/dev/nvidia0') else 'cpu'\n",
        "\n",
        "!pip install -q http://download.pytorch.org/whl/{accelerator}/torch-1.0.0-{platform}-linux_x86_64.whl torchvision"
      ],
      "execution_count": null,
      "cell_type": "code",
      "metadata": {}
    },
    {
      "outputs": [],
      "source": [
        "from google.colab import drive\n",
        "drive.mount('/gdrive')\n",
        "!cp \"/gdrive/My Drive/glove.840B.300d.sst.txt\" ."
      ],
      "execution_count": null,
      "cell_type": "code",
      "metadata": {}
    },
    {
      "outputs": [],
      "source": [
        "!wget https://github.com/JMitnik/NLP-Lab2/raw/cg/main.py"
      ],
      "execution_count": null,
      "cell_type": "code",
      "metadata": {}
    },
    {
      "outputs": [],
      "source": [
        "from main import *"
      ],
      "execution_count": null,
      "cell_type": "code",
      "metadata": {}
    },
    {
      "outputs": [],
      "source": [
        "results = do_train(tree_model)\n",
        "acc, loss = results\n",
        "plt.plot(acc)"
      ],
      "execution_count": null,
      "cell_type": "code",
      "metadata": {}
    },
    {
      "outputs": [],
      "source": [
        "plt.plot(loss)"
      ],
      "execution_count": null,
      "cell_type": "code",
      "metadata": {}
    }
  ]
}