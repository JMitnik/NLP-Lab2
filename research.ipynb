{
  "nbformat": 4,
  "cells": [
    {
      "source": [
        "import re\n",
        "import random\n",
        "import time\n",
        "import math\n",
        "import numpy as np\n",
        "import nltk\n",
        "import matplotlib.pyplot as plt\n",
        "import sys, os\n",
        "plt.style.use('default')\n",
        "\n",
        "# Disable\n",
        "def blockPrint():\n",
        "    sys.stdout = open(os.devnull, 'w')\n",
        "\n",
        "# Restore\n",
        "def enablePrint():\n",
        "    sys.stdout = sys.__stdout__"
      ],
      "metadata": {},
      "outputs": [],
      "cell_type": "code",
      "execution_count": null
    },
    {
      "source": [
        "!wget http://nlp.stanford.edu/sentiment/trainDevTestTrees_PTB.zip -O trainDevTestTrees_PTB.zip\n",
        "!unzip trainDevTestTrees_PTB.zip"
      ],
      "metadata": {},
      "outputs": [],
      "cell_type": "code",
      "execution_count": null
    },
    {
      "source": [
        "from os.path import exists\n",
        "from wheel.pep425tags import get_abbr_impl, get_impl_ver, get_abi_tag\n",
        "platform = '{}{}-{}'.format(get_abbr_impl(), get_impl_ver(), get_abi_tag())\n",
        "cuda_output = !ldconfig -p|grep cudart.so|sed -e 's/.*\\.\\([0-9]*\\)\\.\\([0-9]*\\)$/cu\\1\\2/'\n",
        "accelerator = cuda_output[0] if exists('/dev/nvidia0') else 'cpu'\n",
        "\n",
        "!pip install -q http://download.pytorch.org/whl/{accelerator}/torch-1.0.0-{platform}-linux_x86_64.whl torchvision"
      ],
      "metadata": {},
      "outputs": [],
      "cell_type": "code",
      "execution_count": null
    },
    {
      "source": [
        "from google.colab import drive\n",
        "drive.mount('/gdrive')\n",
        "!cp \"/gdrive/My Drive/glove.840B.300d.sst.txt\" ."
      ],
      "metadata": {},
      "outputs": [],
      "cell_type": "code",
      "execution_count": null
    },
    {
      "source": [
        "!wget -q https://github.com/JMitnik/NLP-Lab2/raw/cg/main.py -O ./main.py"
      ],
      "metadata": {},
      "outputs": [],
      "cell_type": "code",
      "execution_count": null
    },
    {
      "source": [
        "blockPrint()\n",
        "from main import *\n",
        "enablePrint()"
      ],
      "metadata": {},
      "outputs": [],
      "cell_type": "code",
      "execution_count": null
    },
    {
      "source": [
        "results = do_train(tree_model)\n",
        "acc, loss = results\n",
        "plt.plot(acc)"
      ],
      "metadata": {},
      "outputs": [],
      "cell_type": "code",
      "execution_count": null
    },
    {
      "source": [
        "plt.plot(loss)"
      ],
      "metadata": {},
      "outputs": [],
      "cell_type": "code",
      "execution_count": null
    }
  ],
  "nbformat_minor": 1,
  "metadata": {
    "kernelspec": {
      "display_name": "Python 3",
      "name": "python3",
      "language": "python"
    },
    "language_info": {
      "file_extension": ".py",
      "nbconvert_exporter": "python",
      "pygments_lexer": "ipython3",
      "name": "python",
      "mimetype": "text/x-python",
      "version": "3.6.1",
      "codemirror_mode": {
        "version": 3,
        "name": "ipython"
      }
    },
    "anaconda-cloud": {}
  }
}