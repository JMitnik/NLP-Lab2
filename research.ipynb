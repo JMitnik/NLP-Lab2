{
  "nbformat": 4,
  "metadata": {
    "anaconda-cloud": {},
    "language_info": {
      "name": "python",
      "version": "3.6.1",
      "codemirror_mode": {
        "name": "ipython",
        "version": 3
      },
      "mimetype": "text/x-python",
      "pygments_lexer": "ipython3",
      "file_extension": ".py",
      "nbconvert_exporter": "python"
    },
    "kernelspec": {
      "language": "python",
      "display_name": "Python 3",
      "name": "python3"
    }
  },
  "nbformat_minor": 1,
  "cells": [
    {
      "outputs": [],
      "metadata": {},
      "cell_type": "code",
      "execution_count": null,
      "source": [
        "import re\n",
        "import random\n",
        "import time\n",
        "import math\n",
        "import numpy as np\n",
        "import nltk\n",
        "import matplotlib.pyplot as plt\n",
        "import sys\n",
        "import os\n",
        "from abc import ABC, abstractmethod\n",
        "plt.style.use('default')"
      ]
    },
    {
      "outputs": [],
      "metadata": {},
      "cell_type": "code",
      "execution_count": null,
      "source": [
        "!pip install humanize\n",
        "import psutil, humanize\n",
        "def printm():\n",
        "  process = psutil.Process(os.getpid())\n",
        "  print(\"Gen RAM Free:\" + humanize.naturalsize( psutil.virtual_memory().available ), \"| Proc size:\" + humanize.naturalsize( process.memory_info().rss))"
      ]
    },
    {
      "outputs": [],
      "metadata": {},
      "cell_type": "code",
      "execution_count": null,
      "source": [
        "class MutePrint:\n",
        "\n",
        "    def __init__(self):\n",
        "        self.stdout_restore = sys.stdout\n",
        "    # Disable\n",
        "\n",
        "    def blockPrint(self):\n",
        "        sys.stdout = open(os.devnull, 'w')\n",
        "\n",
        "    # Restore\n",
        "    def enablePrint(self):\n",
        "        sys.stdout = self.stdout_restore\n",
        "mute = MutePrint()\n",
        "# %%\n",
        "!wget http://nlp.stanford.edu/sentiment/trainDevTestTrees_PTB.zip -O trainDevTestTrees_PTB.zip\n",
        "!unzip trainDevTestTrees_PTB.zip"
      ]
    },
    {
      "outputs": [],
      "metadata": {},
      "cell_type": "code",
      "execution_count": null,
      "source": [
        "!pip install pytreebank\n",
        "import pytreebank\n",
        "# %%\n",
        "from os.path import exists\n",
        "from wheel.pep425tags import get_abbr_impl, get_impl_ver, get_abi_tag\n",
        "platform = '{}{}-{}'.format(get_abbr_impl(), get_impl_ver(), get_abi_tag())\n",
        "cuda_output = !ldconfig - p | grep cudart.so | sed - e 's/.*\\.\\([0-9]*\\)\\.\\([0-9]*\\)$/cu\\1\\2/'\n",
        "accelerator = cuda_output[0] if exists('/dev/nvidia0') else 'cpu'\n",
        "\n",
        "!pip install -q http://download.pytorch.org/whl/{accelerator}/torch-1.0.0-{platform}-linux_x86_64.whl torchvision"
      ]
    },
    {
      "outputs": [],
      "metadata": {},
      "cell_type": "code",
      "execution_count": null,
      "source": [
        "from google.colab import drive\n",
        "drive.mount('/gdrive')\n",
        "!cp \"/gdrive/My Drive/glove.840B.300d.sst.txt\" ."
      ]
    },
    {
      "outputs": [],
      "metadata": {},
      "cell_type": "code",
      "execution_count": null,
      "source": [
        "!wget -q https://github.com/JMitnik/NLP-Lab2/raw/cg/main.py -O ./main.py\n",
        "!wget -q https://github.com/JMitnik/NLP-Lab2/raw/cg/utils.py -O ./utils.py"
      ]
    },
    {
      "outputs": [],
      "metadata": {},
      "cell_type": "code",
      "execution_count": null,
      "source": [
        "mute.blockPrint()\n",
        "from main import *\n",
        "from utils import *\n",
        "mute.enablePrint()"
      ]
    },
    {
      "outputs": [],
      "metadata": {},
      "cell_type": "code",
      "execution_count": null,
      "source": [
        "def get_subtree_dataset():\n",
        "    '''\n",
        "    extract all subtrees together to the exact form of the `train_data` used in last ipynb\n",
        "    args: None\n",
        "    returns: a list contains three list of Examples, each of them corresponds to one of 'train', 'test', 'dev' set\n",
        "    '''\n",
        "    dataset = pytreebank.load_sst(\"./trees\")\n",
        "    datasets = dataset.values()\n",
        "    print(dataset.keys())\n",
        "    results = []\n",
        "    for D in datasets:\n",
        "        result = []\n",
        "        for tree in D:\n",
        "            tree.lowercase()\n",
        "            for c in tree.all_children():\n",
        "                sc = str(c)\n",
        "                trans = transitions_from_treestring(sc)\n",
        "                label = c.label\n",
        "                tree = c\n",
        "                tokens = tokens_from_treestring(sc)\n",
        "                result.append(Example(tokens=tokens, tree=tree, label=label, transitions=trans))\n",
        "        results.append(result)\n",
        "    return results"
      ]
    },
    {
      "outputs": [],
      "metadata": {},
      "cell_type": "code",
      "execution_count": null,
      "source": [
        "subtree_train_data, subtree_test_data, subtree_dev_data = get_subtree_dataset()"
      ]
    },
    {
      "outputs": [],
      "metadata": {},
      "cell_type": "code",
      "execution_count": null,
      "source": [
        "class Experiment():\n",
        "\n",
        "    def __init__(self, model, optimizer, *args, **kwargs):\n",
        "        self.args = args\n",
        "        self.kwargs = kwargs\n",
        "        self.model = model\n",
        "        self.optimizer = optimizer\n",
        "    def train(self):\n",
        "        path = \"{}.pt\".format(self.kwargs['exp_name'] if 'exp_name' in self.kwargs else self.model.__class__.__name__)\n",
        "        if os.path.exists(path):\n",
        "            ckpt= torch.load(path)\n",
        "            self.model.load_state_dict(ckpt[\"state_dict\"])\n",
        "            return\n",
        "        self.losses, self.accs = train_model(self.model, self.optimizer, *self.args, **self.kwargs)\n",
        "    def eval(self, eval_fn=None, data=test_data, **kwargs):\n",
        "        if eval_fn is None:\n",
        "            if not ('eval_fn' in kwargs):\n",
        "                eval_fn = simple_evaluate\n",
        "            else:\n",
        "                eval_fn = self.kwargs['eval_fn'] \n",
        "        return eval_fn(self.model, data, **kwargs)\n",
        "\n",
        "    def plot(self):\n",
        "        plt.plot(self.losses)\n",
        "        plt.plot(self.accs)\n",
        "        return\n",
        "    def get_accuracy():\n",
        "        return self.accs\n",
        "\n",
        "    def get_losses():\n",
        "        return self.losses\n",
        "\n"
      ]
    },
    {
      "outputs": [],
      "metadata": {},
      "cell_type": "code",
      "execution_count": null,
      "source": [
        "def prepare_subtreelstm_minibatch(mb, vocab):\n",
        "  \"\"\"\n",
        "  Returns sentences reversed (last word first)\n",
        "  Returns transitions together with the sentences.  \n",
        "  \"\"\"\n",
        "  batch_size = len(mb)\n",
        "  maxlen = max([len(ex.tokens) for ex in mb])\n",
        "    \n",
        "  # vocab returns 0 if the word is not there\n",
        "  # NOTE: reversed sequence!\n",
        "  x = [pad([vocab.w2i.get(t, 0) for t in ex.tokens], maxlen)[::-1] for ex in mb]\n",
        "  \n",
        "  x = torch.LongTensor(x)\n",
        "  x = x.to(device)\n",
        "  \n",
        "  y = [ex.label for ex in mb]\n",
        "  y = torch.LongTensor(y)\n",
        "  y = y.to(device)\n",
        "  \n",
        "  maxlen_t = max([len(ex.transitions) for ex in mb])\n",
        "  transitions = [pad(ex.transitions, maxlen_t, pad_value=2) for ex in mb]\n",
        "  transitions = np.array(transitions)\n",
        "  transitions = transitions.T  # time-major\n",
        "  \n",
        "  return (x, transitions), y\n"
      ]
    },
    {
      "outputs": [],
      "metadata": {},
      "cell_type": "code",
      "execution_count": null,
      "source": [
        "# build all the experiments by feeding corresponding parameters\n",
        "# cant think of cleaner way to do it :(\n",
        "\n",
        "name2class = {'bow': BOW, 'cbow': CBOW, 'deep_cbow': DeepCBOW, 'pt_deep_cbow': DeepCBOW, 'lstm': LSTMClassifier,\n",
        "              'tree_lstm': TreeLSTMClassifier, 'subtree_lstm': TreeLSTMClassifier}\n",
        "name2lr = {'bow': 5e-4, 'cbow': 5e-4, 'deep_cbow': 5e-4, 'pt_deep_cbow': 5e-4,\n",
        "           'lstm': 3e-4, 'tree_lstm': 2e-4, 'subtree_lstm': 2e-4}\n",
        "xargs_bow = dict(num_iterations=30000, print_every=1000, eval_every=1000)\n",
        "xargs_lstm = dict(num_iterations=25000, print_every=250, eval_every=1000)\n",
        "xargs_tree_lstm = dict(num_iterations=30000,\n",
        "                       print_every=250, eval_every=250,\n",
        "                       prep_fn=prepare_treelstm_minibatch,\n",
        "                       eval_fn=evaluate,\n",
        "                       batch_fn=get_minibatch,\n",
        "                       batch_size=25, eval_batch_size=25)\n",
        "xargs_subtree_lstm = dict(num_iterations=30000,\n",
        "                          print_every=250, eval_every=250,\n",
        "                          prep_fn=prepare_subtreelstm_minibatch,\n",
        "                          eval_fn=evaluate,\n",
        "                          batch_fn=get_minibatch,\n",
        "                          batch_size=25, eval_batch_size=25, train_data=subtree_train_data)\n",
        "name2xargs = {'bow': xargs_bow, 'cbow': xargs_bow, 'deep_cbow': xargs_bow, 'pt_deep_cbow': xargs_bow,\n",
        "              'lstm': xargs_lstm, 'tree_lstm': xargs_tree_lstm, 'subtree_lstm': xargs_subtree_lstm}\n",
        "\n",
        "bow_p = [vocab_size, n_classes, v]\n",
        "cbow_p = [len(v.w2i), embedding_dim, len(t2i), v]\n",
        "deep_cbow_p = [len(v.w2i), embedding_dim, hidden_dim, len(t2i), v]\n",
        "pt_deep_cbow_p = [len(nv.w2i), embedding_dim, hidden_dim, len(t2i), nv]\n",
        "lstm_p = [len(nv.w2i), 300, 168, len(t2i), nv]\n",
        "tree_lstm_p = [len(nv.w2i), 300, 150, len(t2i), nv]\n",
        "name2model_p = {'bow': bow_p, 'cbow': cbow_p, 'deep_cbow': deep_cbow_p, 'pt_deep_cbow': pt_deep_cbow_p,\n",
        "                'lstm': lstm_p, 'tree_lstm': tree_lstm_p, 'subtree_lstm': tree_lstm_p}\n",
        "\n",
        "\n",
        "def do_experiment(rd_seed, exp_name_li=list(name2class.keys())):\n",
        "    torch.cuda.manual_seed(rd_seed)\n",
        "    np.random.seed(rd_seed)\n",
        "    for n in exp_name_li:\n",
        "        # build a new tree lstm for feeding subtree\n",
        "        model = name2class[n](*name2model_p[n])\n",
        "        model = model.to(device)\n",
        "        optimizer = optim.Adam(model.parameters(), lr=name2lr[n])\n",
        "        if n.startswith('pt') or n.endswith('lstm'):\n",
        "            with torch.no_grad():\n",
        "                model.embed.weight.data.copy_(torch.from_numpy(vectors))\n",
        "                model.embed.weight.requires_grad = False\n",
        "        exp = Experiment(model, optimizer, exp_name='{}_rd_seed_{}'.format(\n",
        "            n, rd_seed), **name2xargs[n])\n",
        "        exp.train()\n",
        "        yield exp"
      ]
    },
    {
      "outputs": [],
      "metadata": {},
      "cell_type": "code",
      "execution_count": null,
      "source": [
        "rd_s_li = [7, 42, 1984]\n",
        "exp_li = []\n",
        "for rs_s in rd_s_li:\n",
        "    exp_li.append(list(do_experiment(rs_s)))"
      ]
    },
    {
      "outputs": [],
      "metadata": {},
      "cell_type": "code",
      "execution_count": null,
      "source": []
    }
  ]
}