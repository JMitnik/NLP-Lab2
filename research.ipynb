{
  "nbformat_minor": 1,
  "cells": [
    {
      "cell_type": "code",
      "execution_count": null,
      "metadata": {},
      "source": [
        "import re\n",
        "import random\n",
        "import time\n",
        "import math\n",
        "import numpy as np\n",
        "import nltk\n",
        "import matplotlib.pyplot as plt\n",
        "import sys\n",
        "import os\n",
        "from abc import ABC, abstractmethod\n",
        "plt.style.use('default')"
      ],
      "outputs": []
    },
    {
      "cell_type": "code",
      "execution_count": null,
      "metadata": {},
      "source": [
        "class MutePrint:\n",
        "\n",
        "    def __init__(self):\n",
        "        self.stdout_restore = sys.stdout\n",
        "    # Disable\n",
        "\n",
        "    def blockPrint(self):\n",
        "        sys.stdout = open(os.devnull, 'w')\n",
        "\n",
        "    # Restore\n",
        "    def enablePrint(self):\n",
        "        sys.stdout = self.stdout_restore\n",
        "mute = MutePrint()\n",
        "# %%\n",
        "!wget http:\n",
        "    //nlp.stanford.edu / sentiment / trainDevTestTrees_PTB.zip - O trainDevTestTrees_PTB.zip\n",
        "!unzip trainDevTestTrees_PTB.zip"
      ],
      "outputs": []
    },
    {
      "cell_type": "code",
      "execution_count": null,
      "metadata": {},
      "source": [
        "from os.path import exists\n",
        "from wheel.pep425tags import get_abbr_impl, get_impl_ver, get_abi_tag\n",
        "platform = '{}{}-{}'.format(get_abbr_impl(), get_impl_ver(), get_abi_tag())\n",
        "cuda_output = !ldconfig - p | grep cudart.so | sed - e 's/.*\\.\\([0-9]*\\)\\.\\([0-9]*\\)$/cu\\1\\2/'\n",
        "accelerator = cuda_output[0] if exists('/dev/nvidia0') else 'cpu'\n",
        "\n",
        "!pip install - q http:\n",
        "    //download.pytorch.org / whl / {accelerator} / torch - 1.0.0 - {platform} - linux_x86_64.whl torchvision"
      ],
      "outputs": []
    },
    {
      "cell_type": "code",
      "execution_count": null,
      "metadata": {},
      "source": [
        "from google.colab import drive\n",
        "drive.mount('/gdrive')\n",
        "!cp \"/gdrive/My Drive/glove.840B.300d.sst.txt\" ."
      ],
      "outputs": []
    },
    {
      "cell_type": "code",
      "execution_count": null,
      "metadata": {},
      "source": [
        "!wget - q https:\n",
        "    //github.com / JMitnik / NLP - Lab2 / raw / cg / main.py - O . / main.py"
      ],
      "outputs": []
    },
    {
      "cell_type": "code",
      "execution_count": null,
      "metadata": {},
      "source": [
        "mute.blockPrint()\n",
        "from main import *\n",
        "mute.enablePrint()"
      ],
      "outputs": []
    },
    {
      "cell_type": "code",
      "execution_count": null,
      "metadata": {},
      "source": [
        "class Experiment(ABC):\n",
        "\n",
        "    @abstractmethod\n",
        "    def __init__(self, *args, **xargs):\n",
        "        self.args = args\n",
        "        self.xargs = xargs\n",
        "        self.model = args[0]\n",
        "    @abstractmethod\n",
        "    def train(self):\n",
        "        path = \"{}.pt\".format(xargs['exp_name'] if 'exp_name' in xargs or self.model.__class__.__name__)\n",
        "        if os.path.exists(path):\n",
        "            ckpt= torch.load(path)\n",
        "            self.model.load_state_dict(ckpt[\"state_dict\"])\n",
        "            return\n",
        "    @abstractmethod\n",
        "    def eval(eval_fn=None):\n",
        "        if eval_fn is None:\n",
        "            if not ('eval_fn' in xargs):\n",
        "                eval_fn = simple_evaluate\n",
        "            else:\n",
        "                eval_fn = xargs['eval_fn']\n",
        "    @abstractmethod\n",
        "    def get_accuracy():\n",
        "        pass\n",
        "    @abstractmethod\n",
        "    def get_losses():\n",
        "        pass\n",
        "    results = do_train(tree_model)\n",
        "    acc, loss = results\n",
        "    plt.plot(acc)"
      ],
      "outputs": []
    },
    {
      "cell_type": "code",
      "execution_count": null,
      "metadata": {},
      "source": [
        "plt.plot(loss)\n"
      ],
      "outputs": []
    }
  ],
  "nbformat": 4,
  "metadata": {
    "kernelspec": {
      "display_name": "Python 3",
      "name": "python3",
      "language": "python"
    },
    "anaconda-cloud": {},
    "language_info": {
      "version": "3.6.1",
      "nbconvert_exporter": "python",
      "mimetype": "text/x-python",
      "name": "python",
      "codemirror_mode": {
        "name": "ipython",
        "version": 3
      },
      "pygments_lexer": "ipython3",
      "file_extension": ".py"
    }
  }
}