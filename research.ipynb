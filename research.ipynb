{
  "metadata": {
    "language_info": {
      "nbconvert_exporter": "python",
      "name": "python",
      "codemirror_mode": {
        "version": 3,
        "name": "ipython"
      },
      "version": "3.6.1",
      "pygments_lexer": "ipython3",
      "file_extension": ".py",
      "mimetype": "text/x-python"
    },
    "anaconda-cloud": {},
    "kernelspec": {
      "name": "python3",
      "language": "python",
      "display_name": "Python 3"
    }
  },
  "nbformat": 4,
  "cells": [
    {
      "execution_count": null,
      "metadata": {},
      "cell_type": "code",
      "source": [
        "import re\n",
        "import random\n",
        "import time\n",
        "import math\n",
        "import numpy as np\n",
        "import nltk\n",
        "import matplotlib.pyplot as plt\n",
        "import sys\n",
        "import os\n",
        "from abc import ABC, abstractmethod\n",
        "plt.style.use('default')"
      ],
      "outputs": []
    },
    {
      "execution_count": null,
      "metadata": {},
      "cell_type": "code",
      "source": [
        "!pip install humanize\n",
        "import psutil, humanize\n",
        "def printm():\n",
        "  process = psutil.Process(os.getpid())\n",
        "  print(\"Gen RAM Free:\" + humanize.naturalsize( psutil.virtual_memory().available ), \"| Proc size:\" + humanize.naturalsize( process.memory_info().rss))"
      ],
      "outputs": []
    },
    {
      "execution_count": null,
      "metadata": {},
      "cell_type": "code",
      "source": [
        "class MutePrint:\n",
        "\n",
        "    def __init__(self):\n",
        "        self.stdout_restore = sys.stdout\n",
        "    # Disable\n",
        "\n",
        "    def blockPrint(self):\n",
        "        sys.stdout = open(os.devnull, 'w')\n",
        "\n",
        "    # Restore\n",
        "    def enablePrint(self):\n",
        "        sys.stdout = self.stdout_restore\n",
        "mute = MutePrint()\n",
        "# %%\n",
        "!wget http://nlp.stanford.edu/sentiment/trainDevTestTrees_PTB.zip -O trainDevTestTrees_PTB.zip\n",
        "!unzip trainDevTestTrees_PTB.zip"
      ],
      "outputs": []
    },
    {
      "execution_count": null,
      "metadata": {},
      "cell_type": "code",
      "source": [
        "!pip install pytreebank\n",
        "import pytreebank\n",
        "# %%\n",
        "from os.path import exists\n",
        "from wheel.pep425tags import get_abbr_impl, get_impl_ver, get_abi_tag\n",
        "platform = '{}{}-{}'.format(get_abbr_impl(), get_impl_ver(), get_abi_tag())\n",
        "cuda_output = !ldconfig -p | grep cudart.so | sed -e 's/.*\\.\\([0-9]*\\)\\.\\([0-9]*\\)$/cu\\1\\2/'\n",
        "accelerator = cuda_output[0] if exists('/dev/nvidia0') else 'cpu'\n",
        "!pip install -q http://download.pytorch.org/whl/{accelerator}/torch-0.4.1-{platform}-linux_x86_64.whl torchvision\n",
        "# if accelerator == 'cpu':\n",
        "#   raise InvalidArgumentError('should run this notebook under gpu enviroment')\n",
        "# !pip install torch torchvision"
      ],
      "outputs": []
    },
    {
      "execution_count": null,
      "metadata": {},
      "cell_type": "code",
      "source": [
        "from google.colab import drive\n",
        "drive.mount('/gdrive')\n",
        "!cp \"/gdrive/My Drive/glove.840B.300d.sst.txt\" ."
      ],
      "outputs": []
    },
    {
      "execution_count": null,
      "metadata": {},
      "cell_type": "code",
      "source": [
        "!wget -q https://github.com/JMitnik/NLP-Lab2/raw/cg/main.py -O ./main.py\n",
        "!wget -q https://github.com/JMitnik/NLP-Lab2/raw/cg/utils.py -O ./utils.py"
      ],
      "outputs": []
    },
    {
      "execution_count": null,
      "metadata": {},
      "cell_type": "code",
      "source": [
        "mute.blockPrint()\n",
        "from main import *\n",
        "from utils import *\n",
        "mute.enablePrint()"
      ],
      "outputs": []
    },
    {
      "execution_count": null,
      "metadata": {},
      "cell_type": "code",
      "source": [
        "def get_subtree_dataset():\n",
        "    '''\n",
        "    extract all subtrees together to the exact form of the `train_data` used in last ipynb\n",
        "    args: None\n",
        "    returns: a list contains three list of Examples, each of them corresponds to one of 'train', 'test', 'dev' set\n",
        "    '''\n",
        "    dataset = pytreebank.load_sst(\"./trees\")\n",
        "    datasets = dataset.values()\n",
        "    print(dataset.keys())\n",
        "    results = []\n",
        "    for D in datasets:\n",
        "        result = []\n",
        "        for tree in D:\n",
        "            tree.lowercase()\n",
        "            for c in tree.all_children():\n",
        "                sc = str(c)\n",
        "                trans = transitions_from_treestring(sc)\n",
        "                label = c.label\n",
        "                tree = c\n",
        "                tokens = tokens_from_treestring(sc)\n",
        "                result.append(Example(tokens=tokens, tree=tree, label=label, transitions=trans))\n",
        "        results.append(result)\n",
        "    return results"
      ],
      "outputs": []
    },
    {
      "execution_count": null,
      "metadata": {},
      "cell_type": "code",
      "source": [
        "subtree_train_data, subtree_test_data, subtree_dev_data = get_subtree_dataset()"
      ],
      "outputs": []
    },
    {
      "execution_count": null,
      "metadata": {},
      "cell_type": "code",
      "source": [
        "class Experiment():\n",
        "\n",
        "    def __init__(self, model, optimizer, *args, **kwargs):\n",
        "        self.args = args\n",
        "        self.kwargs = kwargs\n",
        "        self.model = model\n",
        "        self.optimizer = optimizer\n",
        "    def train(self):\n",
        "        path = \"{}.pt\".format(self.kwargs['exp_name'] if 'exp_name' in self.kwargs else self.model.__class__.__name__)\n",
        "        if os.path.exists(path):\n",
        "            try:\n",
        "                ckpt= torch.load(path)\n",
        "                self.model.load_state_dict(ckpt[\"state_dict\"])\n",
        "                self.init=True\n",
        "            except:\n",
        "                self.init = False\n",
        "            return\n",
        "        self.losses, self.accs = train_model(self.model, self.optimizer, *self.args, **self.kwargs)\n",
        "        self.init=True\n",
        "    def eval(self, eval_fn=None, data=test_data, **kwargs):\n",
        "        if eval_fn is None:\n",
        "            if not ('eval_fn' in kwargs):\n",
        "                eval_fn = simple_evaluate\n",
        "            else:\n",
        "                eval_fn = self.kwargs['eval_fn']\n",
        "        self.pred, _, _, self.acc = eval_fn(self.model, data, **kwargs)\n",
        "        return \n",
        "\n",
        "    def plot(self):\n",
        "        plt.plot(self.losses)\n",
        "        plt.plot(self.accs)\n",
        "        return\n",
        "\n",
        "    def get_accuracy():\n",
        "        return self.accs\n",
        "\n",
        "    def get_losses():\n",
        "        return self.losses\n",
        "\n",
        "\n"
      ],
      "outputs": []
    },
    {
      "execution_count": null,
      "metadata": {},
      "cell_type": "code",
      "source": [
        "# build all the experiments by feeding corresponding parameters\n",
        "# cant think of cleaner way to do it :(\n",
        "\n",
        "name2class = {'bow': BOW, 'cbow': CBOW, 'deep_cbow': DeepCBOW, 'pt_deep_cbow': DeepCBOW, 'lstm': LSTMClassifier, 'mini_lstm': LSTMClassifier,\n",
        "              'tree_lstm': TreeLSTMClassifier, 'subtree_lstm': TreeLSTMClassifier, 'child_sum_tree_lstm': TreeLSTMClassifier}\n",
        "model_name_li = list(name2class.keys())\n",
        "name2lr = {'bow': 5e-4, 'cbow': 5e-4, 'deep_cbow': 5e-4, 'pt_deep_cbow': 5e-4,\n",
        "           'lstm': 3e-4, 'mini_lstm': 2e-4, 'tree_lstm': 2e-4, 'subtree_lstm': 2e-4, 'child_sum_tree_lstm':2e-4}\n",
        "xargs_bow = dict(num_iterations=30000, print_every=1000, eval_every=1000)\n",
        "xargs_lstm = dict(num_iterations=25000, print_every=250, eval_every=1000)\n",
        "xargs_mini_lstm = dict(num_iterations=30000,\n",
        "                  print_every=250, eval_every=250,\n",
        "                  batch_size=batch_size,\n",
        "                  batch_fn=get_minibatch,\n",
        "                  prep_fn=prepare_minibatch,\n",
        "                  eval_fn=evaluate)\n",
        "xargs_tree_lstm = dict(num_iterations=30000,\n",
        "                       print_every=250, eval_every=250,\n",
        "                       prep_fn=prepare_treelstm_minibatch,\n",
        "                       eval_fn=evaluate,\n",
        "                       batch_fn=get_minibatch,\n",
        "                       batch_size=25, eval_batch_size=25)\n",
        "xargs_subtree_lstm = dict(num_iterations=30000,\n",
        "                          print_every=250, eval_every=250,\n",
        "                          prep_fn=prepare_treelstm_minibatch,\n",
        "                          eval_fn=evaluate,\n",
        "                          batch_fn=get_minibatch,\n",
        "                          batch_size=25, eval_batch_size=25, train_data=subtree_train_data)\n",
        "name2xargs = {'bow': xargs_bow, 'cbow': xargs_bow, 'deep_cbow': xargs_bow, 'pt_deep_cbow': xargs_bow,\n",
        "              'lstm': xargs_lstm, 'mini_lstm': xargs_mini_lstm, 'tree_lstm': xargs_tree_lstm, 'subtree_lstm': xargs_subtree_lstm, 'child_sum_tree_lstm': xargs_tree_lstm}\n",
        "\n",
        "bow_p = [vocab_size, n_classes, v]\n",
        "cbow_p = [len(v.w2i), embedding_dim, len(t2i), v]\n",
        "deep_cbow_p = [len(v.w2i), embedding_dim, hidden_dim, len(t2i), v]\n",
        "pt_deep_cbow_p = [len(nv.w2i), embedding_dim, hidden_dim, len(t2i), nv]\n",
        "lstm_p = [len(nv.w2i), 300, 168, len(t2i), nv]\n",
        "tree_lstm_p = [len(nv.w2i), 300, 150, len(t2i), nv]\n",
        "child_sum_tree_lstm_p = [len(nv.w2i), 300, 150, len(t2i), nv, True]\n",
        "name2model_p = {'bow': bow_p, 'cbow': cbow_p, 'deep_cbow': deep_cbow_p, 'pt_deep_cbow': pt_deep_cbow_p,\n",
        "                'lstm': lstm_p, 'mini_lstm': lstm_p, 'tree_lstm': tree_lstm_p, 'subtree_lstm': tree_lstm_p,\n",
        "                'child_sum_tree_lstm': child_sum_tree_lstm_p}\n",
        "\n",
        "!cp /gdrive/My\\ Drive/pts/*.pt ./\n",
        "\n",
        "def do_experiment(rd_seed, exp_name_li=list(name2class.keys())):\n",
        "    torch.cuda.manual_seed(rd_seed)\n",
        "    np.random.seed(rd_seed)\n",
        "    for n in exp_name_li:\n",
        "        # build a new tree lstm for feeding subtree\n",
        "        model = name2class[n](*name2model_p[n])\n",
        "        model = model.to(device)\n",
        "        optimizer = optim.Adam(model.parameters(), lr=name2lr[n])\n",
        "        if n.startswith('pt') or n.endswith('lstm'):\n",
        "            with torch.no_grad():\n",
        "                model.embed.weight.data.copy_(torch.from_numpy(vectors))\n",
        "                model.embed.weight.requires_grad = False\n",
        "        exp = Experiment(model, optimizer, exp_name='{}_rd_seed_{}'.format(\n",
        "            n, rd_seed), **name2xargs[n])\n",
        "        try:\n",
        "            exp.train()\n",
        "        except:\n",
        "            pass\n",
        "        yield exp"
      ],
      "outputs": []
    },
    {
      "execution_count": null,
      "metadata": {},
      "cell_type": "code",
      "source": [
        "rd_s_li = [7, 42, 1984]\n",
        "exp_li = []\n",
        "for rs_s in rd_s_li:\n",
        "    exp_li.append(list(do_experiment(rs_s)))"
      ],
      "outputs": []
    },
    {
      "execution_count": null,
      "metadata": {},
      "cell_type": "code",
      "source": [
        "\n",
        "!cp ./*.pt \"/gdrive/My Drive/pts\""
      ],
      "outputs": []
    },
    {
      "execution_count": null,
      "metadata": {},
      "cell_type": "code",
      "source": [
        "!pip install prettytable\n",
        "import prettytable as pt"
      ],
      "outputs": []
    },
    {
      "execution_count": null,
      "metadata": {},
      "cell_type": "code",
      "source": [
        "\n",
        "def generate_tables():\n",
        "    models_eval_results = {}\n",
        "    for rd, el in zip(rd_s_li, *exp_li):\n",
        "        for n, exp in zip(model_name_li, el):\n",
        "            prep_func = prepare_treelstm_minibatch if n.startswith(\n",
        "                'tree') or n.startswith('subtree') else prepare_minibatch\n",
        "            exp.eval(eval_fn=evaluate_with_results, batch_fn=get_minibatch,\n",
        "                    prep_fn=prep_func)\n",
        "            pred_and_acc = [exp.pred, exp.acc]\n",
        "            models_eval_results[n] = [pred_and_acc] if not models_eval_results.get(\n",
        "                n) else models_eval_results[n].append([pred_and_acc])\n",
        "    acc_table = pt.PrettyTable()\n",
        "    acc_table.field_names = model_name_li\n",
        "    def helper(x):\n",
        "        y = [e[1] for e in x]\n",
        "        m = np.mean(y)\n",
        "        v = np.std(y)\n",
        "        s = '{}+-{}'.format(m, v)\n",
        "        return s\n",
        "    acc_table.add_row([helper(models_eval_results[n]) for n in model_name_li])\n",
        "    sig_table = pt.PrettyTable()\n",
        "    sig_table.field_names = ['models']+model_name_li\n",
        "    for n1 in model_name_li:\n",
        "        row = [n1]\n",
        "        for n2 in model_name_li:\n",
        "            sig = sign_test(models_eval_results[n1][0][0], models_eval_results[n2][0][0])\n",
        "            row.append(sig)\n",
        "        sig_table.add_row(row)\n",
        "    return acc_table, sig_table"
      ],
      "outputs": []
    },
    {
      "execution_count": null,
      "metadata": {},
      "cell_type": "code",
      "source": [
        "\n",
        "acc_table, sig_table = generate_tables()"
      ],
      "outputs": []
    },
    {
      "execution_count": null,
      "metadata": {},
      "cell_type": "code",
      "source": [
        "print(acc_table)"
      ],
      "outputs": []
    },
    {
      "execution_count": null,
      "metadata": {},
      "cell_type": "code",
      "source": [
        "print(sig_table)\n"
      ],
      "outputs": []
    }
  ],
  "nbformat_minor": 1
}